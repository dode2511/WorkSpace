{
 "cells": [
  {
   "cell_type": "code",
   "execution_count": 6,
   "metadata": {},
   "outputs": [],
   "source": [
    "import random\n",
    "import numpy as np\n",
    "from IPython.display import display, clear_output"
   ]
  },
  {
   "cell_type": "code",
   "execution_count": 19,
   "metadata": {},
   "outputs": [],
   "source": [
    "class Jogo8Puzzle:\n",
    "    def __init__(self):\n",
    "        self.estado_objetivo = np.array([[1, 2, 3],\n",
    "                                         [4, 5, 6], \n",
    "                                         [7, 8, 0]])\n",
    "        self.estado_atual = self.estado_objetivo.copy()\n",
    "        self.embaralhar()\n",
    "\n",
    "    def embaralhar(self):\n",
    "        for _ in range(3):\n",
    "            self.mover_aleatorio()\n",
    "    \n",
    "    def mover_aleatorio(self):\n",
    "        movimentos_possiveis = self.obter_movimentos_possiveis()\n",
    "        if movimentos_possiveis:\n",
    "            movimento = random.choice(movimentos_possiveis)\n",
    "            # movimento => [(linha, coluna), direcao]\n",
    "            self.mover(movimento[0])\n",
    "\n",
    "    def obter_movimentos_possiveis(self):\n",
    "        # buscar a posição do zero\n",
    "        # verificar se é possível mover para \n",
    "        # cima, baixo, esquerda ou direita\n",
    "        movimentos_possiveis = []\n",
    "        # movimentos_possiveis é uma tupla (linha, coluna), direcao\n",
    "        # direcao => w = cima, s = baixo, a = esquerda, d = direita\n",
    "\n",
    "        linha_vazia, coluna_vazia = np.where(self.estado_atual == 0)\n",
    "        if linha_vazia > 0:\n",
    "            movimentos_possiveis.append((\n",
    "                (linha_vazia - 1, coluna_vazia), 'w'\n",
    "            ))\n",
    "        \n",
    "        if linha_vazia < 2:\n",
    "            movimentos_possiveis.append((\n",
    "                (linha_vazia + 1, coluna_vazia), 's'\n",
    "            ))\n",
    "\n",
    "        if coluna_vazia > 0:\n",
    "            movimentos_possiveis.append((\n",
    "                (linha_vazia, coluna_vazia - 1), 'a'\n",
    "            ))\n",
    "        \n",
    "        if coluna_vazia < 2:\n",
    "            movimentos_possiveis.append((\n",
    "                (linha_vazia, coluna_vazia + 1), 'd'\n",
    "            ))    \n",
    "\n",
    "        return movimentos_possiveis\n",
    "\n",
    "    def mover(self, posicao):\n",
    "        linha_vazia, coluna_vazia = np.where(self.estado_atual == 0)\n",
    "        nova_linha, nova_coluna = posicao\n",
    "\n",
    "        self.estado_atual[linha_vazia, coluna_vazia], self.estado_atual[nova_linha, nova_coluna] = \\\n",
    "            self.estado_atual[nova_linha, nova_coluna], self.estado_atual[linha_vazia, coluna_vazia]\n",
    "        \n",
    "    def mostra_tabuleiro(self):\n",
    "        display(self.estado_atual)\n",
    "\n",
    "    def jogar(self):\n",
    "        jogo_ativo = True\n",
    "        while jogo_ativo:\n",
    "            clear_output(wait=True)\n",
    "            self.mostra_tabuleiro()\n",
    "            print(\"Use as teclas w, a, s, d para mover o zero\")\n",
    "\n",
    "            movimentos_possiveis = self.obter_movimentos_possiveis()\n",
    "            for movimento in movimentos_possiveis:\n",
    "                # movimento => [(linha, coluna), direcao]\n",
    "                posicao, direcao = movimento\n",
    "                linha, coluna = posicao\n",
    "                peca = self.estado_atual[linha, coluna]\n",
    "                print(f\"{direcao}: Move peça {peca}. Posição: {linha}, {coluna}\")\n",
    "            \n",
    "            movimento = input(\"Digite a tecla: \").lower()\n",
    "\n",
    "            if movimento == 'q':\n",
    "                jogo_ativo = False\n",
    "                print(\"Jogo encerrado\")\n",
    "                break\n",
    "            elif movimento in ['w', 'a', 's', 'd']:\n",
    "                # Filtrar movimentos válidos\n",
    "                movimentos_validos = []\n",
    "                for mov in movimentos_possiveis:\n",
    "                    direcao = mov[1]\n",
    "                    movimentos_validos.append(direcao)\n",
    "                if movimento in movimentos_validos:\n",
    "                    for movimento_possivel in movimentos_possiveis:\n",
    "                        if movimento_possivel[1] == movimento:\n",
    "                            self.mover(movimento_possivel[0])\n",
    "                            break\n",
    "            else:\n",
    "                print(\"Movimento inválido\")\n",
    "        \n",
    "        if np.array_equal(self.estado_atual, self.estado_objetivo):\n",
    "            print(\"Parabéns, você venceu!\")\n",
    "            self.mostra_tabuleiro()\n",
    "            clear_output(wait=True)\n",
    "            jogo_ativo = False"
   ]
  },
  {
   "cell_type": "code",
   "execution_count": 20,
   "metadata": {},
   "outputs": [
    {
     "data": {
      "text/plain": [
       "array([[5, 0, 2],\n",
       "       [1, 8, 3],\n",
       "       [4, 7, 6]])"
      ]
     },
     "metadata": {},
     "output_type": "display_data"
    },
    {
     "name": "stdout",
     "output_type": "stream",
     "text": [
      "Use as teclas w, a, s, d para mover o zero\n",
      "s: Move peça [8]. Posição: [1], [1]\n",
      "a: Move peça [5]. Posição: [0], [0]\n",
      "d: Move peça [2]. Posição: [0], [2]\n",
      "Jogo encerrado\n"
     ]
    }
   ],
   "source": [
    "jogo = Jogo8Puzzle()\n",
    "jogo.jogar()"
   ]
  },
  {
   "cell_type": "markdown",
   "metadata": {},
   "source": [
    "Atividade A02 - Algoritmo BFS"
   ]
  },
  {
   "cell_type": "code",
   "execution_count": 21,
   "metadata": {},
   "outputs": [],
   "source": [
    "def algoritmo(estado_atual, estado_objetivo):\n",
    "    # algoritmo de BFS busca em largura\n",
    "\n",
    "    return None # Não econtrou solução"
   ]
  },
  {
   "cell_type": "code",
   "execution_count": 22,
   "metadata": {},
   "outputs": [
    {
     "name": "stdout",
     "output_type": "stream",
     "text": [
      "Não foi encontrada uma solução.\n"
     ]
    }
   ],
   "source": [
    "estado_inicial  = np.array([[1, 2, 3],\n",
    "                            [4, 5, 6],\n",
    "                            [0, 7, 8]])\n",
    "\n",
    "estado_objetivo = np.array([[1, 2, 3],\n",
    "                            [4, 5, 6],\n",
    "                            [7, 8, 0]])\n",
    "\n",
    "solucao = algoritmo(estado_inicial, estado_objetivo)\n",
    "\n",
    "if solucao is None:\n",
    "    print(\"Não foi encontrada uma solução.\")\n",
    "else:\n",
    "    print(f\"Solução encontrada em {len(solucao)} passos:\")\n",
    "    for movimento in solucao:\n",
    "        print(movimento)\n",
    "\n",
    "    jogo = Jogo8Puzzle()\n",
    "    jogo.estado_atual = estado_inicial\n",
    "    for movimento in solucao:\n",
    "        # (linha, coluna)\n",
    "        jogo.mover(direcao_para_posicao[movimento])\n",
    "\n",
    "    jogo.mostrar_tabuleiro()"
   ]
  }
 ],
 "metadata": {
  "kernelspec": {
   "display_name": "base",
   "language": "python",
   "name": "python3"
  },
  "language_info": {
   "codemirror_mode": {
    "name": "ipython",
    "version": 3
   },
   "file_extension": ".py",
   "mimetype": "text/x-python",
   "name": "python",
   "nbconvert_exporter": "python",
   "pygments_lexer": "ipython3",
   "version": "3.11.4"
  },
  "orig_nbformat": 4
 },
 "nbformat": 4,
 "nbformat_minor": 2
}
